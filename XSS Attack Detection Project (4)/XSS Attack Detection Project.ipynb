{
 "cells": [
  {
   "cell_type": "markdown",
   "id": "23186b85",
   "metadata": {},
   "source": [
    "# Importing Libraries"
   ]
  },
  {
   "cell_type": "code",
   "execution_count": 1,
   "id": "cb9f1e95",
   "metadata": {},
   "outputs": [],
   "source": [
    "import pandas as pd\n",
    "from sklearn.model_selection import train_test_split\n",
    "from sklearn.ensemble import RandomForestClassifier\n",
    "from sklearn.linear_model import LogisticRegression\n",
    "from sklearn.neighbors import KNeighborsClassifier\n",
    "from sklearn.svm import SVC\n",
    "from sklearn.metrics import accuracy_score, classification_report, confusion_matrix"
   ]
  },
  {
   "cell_type": "markdown",
   "id": "63e668d2",
   "metadata": {},
   "source": [
    "# Data Cleaning"
   ]
  },
  {
   "cell_type": "code",
   "execution_count": 2,
   "id": "1b11719a",
   "metadata": {},
   "outputs": [
    {
     "data": {
      "text/html": [
       "<div>\n",
       "<style scoped>\n",
       "    .dataframe tbody tr th:only-of-type {\n",
       "        vertical-align: middle;\n",
       "    }\n",
       "\n",
       "    .dataframe tbody tr th {\n",
       "        vertical-align: top;\n",
       "    }\n",
       "\n",
       "    .dataframe thead th {\n",
       "        text-align: right;\n",
       "    }\n",
       "</style>\n",
       "<table border=\"1\" class=\"dataframe\">\n",
       "  <thead>\n",
       "    <tr style=\"text-align: right;\">\n",
       "      <th></th>\n",
       "      <th>Contains &amp;lt</th>\n",
       "      <th>ScripTag</th>\n",
       "      <th>Readable</th>\n",
       "      <th>Contains \"&gt;&lt;</th>\n",
       "      <th>Contains '&gt;&lt;</th>\n",
       "      <th>Contains And</th>\n",
       "      <th>Contains Percentage</th>\n",
       "      <th>Contains Slash</th>\n",
       "      <th>Contains BackSlash</th>\n",
       "      <th>Contains Plus</th>\n",
       "      <th>...</th>\n",
       "      <th>Contains Duble Slash</th>\n",
       "      <th>Contains Vertical Bar</th>\n",
       "      <th>Contains Power</th>\n",
       "      <th>Contains Broken Bar</th>\n",
       "      <th>Contains Alert</th>\n",
       "      <th>Contains Break Line</th>\n",
       "      <th>Letters Ratio</th>\n",
       "      <th>Numbuers Ratio</th>\n",
       "      <th>Symbols Ratio</th>\n",
       "      <th>Class</th>\n",
       "    </tr>\n",
       "  </thead>\n",
       "  <tbody>\n",
       "    <tr>\n",
       "      <th>0</th>\n",
       "      <td>0</td>\n",
       "      <td>1</td>\n",
       "      <td>1</td>\n",
       "      <td>1</td>\n",
       "      <td>0</td>\n",
       "      <td>0</td>\n",
       "      <td>0</td>\n",
       "      <td>1</td>\n",
       "      <td>0</td>\n",
       "      <td>0</td>\n",
       "      <td>...</td>\n",
       "      <td>1</td>\n",
       "      <td>0</td>\n",
       "      <td>0</td>\n",
       "      <td>0</td>\n",
       "      <td>1</td>\n",
       "      <td>0</td>\n",
       "      <td>0.7614</td>\n",
       "      <td>0.0114</td>\n",
       "      <td>0.2273</td>\n",
       "      <td>Malicious</td>\n",
       "    </tr>\n",
       "    <tr>\n",
       "      <th>1</th>\n",
       "      <td>0</td>\n",
       "      <td>1</td>\n",
       "      <td>1</td>\n",
       "      <td>1</td>\n",
       "      <td>0</td>\n",
       "      <td>0</td>\n",
       "      <td>0</td>\n",
       "      <td>1</td>\n",
       "      <td>0</td>\n",
       "      <td>0</td>\n",
       "      <td>...</td>\n",
       "      <td>1</td>\n",
       "      <td>0</td>\n",
       "      <td>0</td>\n",
       "      <td>0</td>\n",
       "      <td>1</td>\n",
       "      <td>0</td>\n",
       "      <td>0.7614</td>\n",
       "      <td>0.0114</td>\n",
       "      <td>0.2273</td>\n",
       "      <td>Malicious</td>\n",
       "    </tr>\n",
       "    <tr>\n",
       "      <th>2</th>\n",
       "      <td>0</td>\n",
       "      <td>1</td>\n",
       "      <td>1</td>\n",
       "      <td>1</td>\n",
       "      <td>0</td>\n",
       "      <td>0</td>\n",
       "      <td>0</td>\n",
       "      <td>1</td>\n",
       "      <td>0</td>\n",
       "      <td>0</td>\n",
       "      <td>...</td>\n",
       "      <td>1</td>\n",
       "      <td>0</td>\n",
       "      <td>0</td>\n",
       "      <td>0</td>\n",
       "      <td>1</td>\n",
       "      <td>0</td>\n",
       "      <td>0.7203</td>\n",
       "      <td>0.0593</td>\n",
       "      <td>0.2203</td>\n",
       "      <td>Malicious</td>\n",
       "    </tr>\n",
       "    <tr>\n",
       "      <th>3</th>\n",
       "      <td>0</td>\n",
       "      <td>1</td>\n",
       "      <td>0</td>\n",
       "      <td>0</td>\n",
       "      <td>0</td>\n",
       "      <td>1</td>\n",
       "      <td>1</td>\n",
       "      <td>1</td>\n",
       "      <td>0</td>\n",
       "      <td>1</td>\n",
       "      <td>...</td>\n",
       "      <td>1</td>\n",
       "      <td>0</td>\n",
       "      <td>0</td>\n",
       "      <td>0</td>\n",
       "      <td>1</td>\n",
       "      <td>0</td>\n",
       "      <td>0.7071</td>\n",
       "      <td>0.1065</td>\n",
       "      <td>0.1864</td>\n",
       "      <td>Malicious</td>\n",
       "    </tr>\n",
       "    <tr>\n",
       "      <th>4</th>\n",
       "      <td>0</td>\n",
       "      <td>1</td>\n",
       "      <td>1</td>\n",
       "      <td>0</td>\n",
       "      <td>0</td>\n",
       "      <td>0</td>\n",
       "      <td>1</td>\n",
       "      <td>1</td>\n",
       "      <td>0</td>\n",
       "      <td>0</td>\n",
       "      <td>...</td>\n",
       "      <td>1</td>\n",
       "      <td>0</td>\n",
       "      <td>0</td>\n",
       "      <td>0</td>\n",
       "      <td>1</td>\n",
       "      <td>0</td>\n",
       "      <td>0.7158</td>\n",
       "      <td>0.1053</td>\n",
       "      <td>0.1789</td>\n",
       "      <td>Malicious</td>\n",
       "    </tr>\n",
       "    <tr>\n",
       "      <th>...</th>\n",
       "      <td>...</td>\n",
       "      <td>...</td>\n",
       "      <td>...</td>\n",
       "      <td>...</td>\n",
       "      <td>...</td>\n",
       "      <td>...</td>\n",
       "      <td>...</td>\n",
       "      <td>...</td>\n",
       "      <td>...</td>\n",
       "      <td>...</td>\n",
       "      <td>...</td>\n",
       "      <td>...</td>\n",
       "      <td>...</td>\n",
       "      <td>...</td>\n",
       "      <td>...</td>\n",
       "      <td>...</td>\n",
       "      <td>...</td>\n",
       "      <td>...</td>\n",
       "      <td>...</td>\n",
       "      <td>...</td>\n",
       "      <td>...</td>\n",
       "    </tr>\n",
       "    <tr>\n",
       "      <th>19117</th>\n",
       "      <td>0</td>\n",
       "      <td>1</td>\n",
       "      <td>0</td>\n",
       "      <td>0</td>\n",
       "      <td>0</td>\n",
       "      <td>1</td>\n",
       "      <td>1</td>\n",
       "      <td>1</td>\n",
       "      <td>0</td>\n",
       "      <td>1</td>\n",
       "      <td>...</td>\n",
       "      <td>0</td>\n",
       "      <td>0</td>\n",
       "      <td>0</td>\n",
       "      <td>0</td>\n",
       "      <td>1</td>\n",
       "      <td>0</td>\n",
       "      <td>0.6344</td>\n",
       "      <td>0.2043</td>\n",
       "      <td>0.1613</td>\n",
       "      <td>Malicious</td>\n",
       "    </tr>\n",
       "    <tr>\n",
       "      <th>19118</th>\n",
       "      <td>0</td>\n",
       "      <td>1</td>\n",
       "      <td>0</td>\n",
       "      <td>0</td>\n",
       "      <td>0</td>\n",
       "      <td>1</td>\n",
       "      <td>1</td>\n",
       "      <td>0</td>\n",
       "      <td>0</td>\n",
       "      <td>1</td>\n",
       "      <td>...</td>\n",
       "      <td>0</td>\n",
       "      <td>0</td>\n",
       "      <td>0</td>\n",
       "      <td>0</td>\n",
       "      <td>1</td>\n",
       "      <td>0</td>\n",
       "      <td>0.6371</td>\n",
       "      <td>0.2299</td>\n",
       "      <td>0.1330</td>\n",
       "      <td>Malicious</td>\n",
       "    </tr>\n",
       "    <tr>\n",
       "      <th>19119</th>\n",
       "      <td>0</td>\n",
       "      <td>1</td>\n",
       "      <td>0</td>\n",
       "      <td>0</td>\n",
       "      <td>0</td>\n",
       "      <td>0</td>\n",
       "      <td>1</td>\n",
       "      <td>0</td>\n",
       "      <td>0</td>\n",
       "      <td>0</td>\n",
       "      <td>...</td>\n",
       "      <td>0</td>\n",
       "      <td>0</td>\n",
       "      <td>0</td>\n",
       "      <td>0</td>\n",
       "      <td>1</td>\n",
       "      <td>0</td>\n",
       "      <td>0.5745</td>\n",
       "      <td>0.2872</td>\n",
       "      <td>0.1383</td>\n",
       "      <td>Malicious</td>\n",
       "    </tr>\n",
       "    <tr>\n",
       "      <th>19120</th>\n",
       "      <td>0</td>\n",
       "      <td>1</td>\n",
       "      <td>0</td>\n",
       "      <td>0</td>\n",
       "      <td>0</td>\n",
       "      <td>1</td>\n",
       "      <td>1</td>\n",
       "      <td>0</td>\n",
       "      <td>0</td>\n",
       "      <td>1</td>\n",
       "      <td>...</td>\n",
       "      <td>0</td>\n",
       "      <td>0</td>\n",
       "      <td>0</td>\n",
       "      <td>0</td>\n",
       "      <td>1</td>\n",
       "      <td>0</td>\n",
       "      <td>0.6215</td>\n",
       "      <td>0.2277</td>\n",
       "      <td>0.1508</td>\n",
       "      <td>Malicious</td>\n",
       "    </tr>\n",
       "    <tr>\n",
       "      <th>19121</th>\n",
       "      <td>0</td>\n",
       "      <td>1</td>\n",
       "      <td>0</td>\n",
       "      <td>0</td>\n",
       "      <td>0</td>\n",
       "      <td>1</td>\n",
       "      <td>1</td>\n",
       "      <td>1</td>\n",
       "      <td>0</td>\n",
       "      <td>1</td>\n",
       "      <td>...</td>\n",
       "      <td>0</td>\n",
       "      <td>0</td>\n",
       "      <td>0</td>\n",
       "      <td>0</td>\n",
       "      <td>1</td>\n",
       "      <td>0</td>\n",
       "      <td>0.6475</td>\n",
       "      <td>0.2014</td>\n",
       "      <td>0.1511</td>\n",
       "      <td>Malicious</td>\n",
       "    </tr>\n",
       "  </tbody>\n",
       "</table>\n",
       "<p>19122 rows × 66 columns</p>\n",
       "</div>"
      ],
      "text/plain": [
       "       Contains &lt  ScripTag  Readable  Contains \"><  Contains '><  \\\n",
       "0                 0         1         1             1             0   \n",
       "1                 0         1         1             1             0   \n",
       "2                 0         1         1             1             0   \n",
       "3                 0         1         0             0             0   \n",
       "4                 0         1         1             0             0   \n",
       "...             ...       ...       ...           ...           ...   \n",
       "19117             0         1         0             0             0   \n",
       "19118             0         1         0             0             0   \n",
       "19119             0         1         0             0             0   \n",
       "19120             0         1         0             0             0   \n",
       "19121             0         1         0             0             0   \n",
       "\n",
       "       Contains And  Contains Percentage  Contains Slash  Contains BackSlash  \\\n",
       "0                 0                    0               1                   0   \n",
       "1                 0                    0               1                   0   \n",
       "2                 0                    0               1                   0   \n",
       "3                 1                    1               1                   0   \n",
       "4                 0                    1               1                   0   \n",
       "...             ...                  ...             ...                 ...   \n",
       "19117             1                    1               1                   0   \n",
       "19118             1                    1               0                   0   \n",
       "19119             0                    1               0                   0   \n",
       "19120             1                    1               0                   0   \n",
       "19121             1                    1               1                   0   \n",
       "\n",
       "       Contains Plus  ...  Contains Duble Slash  Contains Vertical Bar  \\\n",
       "0                  0  ...                     1                      0   \n",
       "1                  0  ...                     1                      0   \n",
       "2                  0  ...                     1                      0   \n",
       "3                  1  ...                     1                      0   \n",
       "4                  0  ...                     1                      0   \n",
       "...              ...  ...                   ...                    ...   \n",
       "19117              1  ...                     0                      0   \n",
       "19118              1  ...                     0                      0   \n",
       "19119              0  ...                     0                      0   \n",
       "19120              1  ...                     0                      0   \n",
       "19121              1  ...                     0                      0   \n",
       "\n",
       "       Contains Power  Contains Broken Bar  Contains Alert  \\\n",
       "0                   0                    0               1   \n",
       "1                   0                    0               1   \n",
       "2                   0                    0               1   \n",
       "3                   0                    0               1   \n",
       "4                   0                    0               1   \n",
       "...               ...                  ...             ...   \n",
       "19117               0                    0               1   \n",
       "19118               0                    0               1   \n",
       "19119               0                    0               1   \n",
       "19120               0                    0               1   \n",
       "19121               0                    0               1   \n",
       "\n",
       "       Contains Break Line  Letters Ratio  Numbuers Ratio  Symbols Ratio  \\\n",
       "0                        0         0.7614          0.0114         0.2273   \n",
       "1                        0         0.7614          0.0114         0.2273   \n",
       "2                        0         0.7203          0.0593         0.2203   \n",
       "3                        0         0.7071          0.1065         0.1864   \n",
       "4                        0         0.7158          0.1053         0.1789   \n",
       "...                    ...            ...             ...            ...   \n",
       "19117                    0         0.6344          0.2043         0.1613   \n",
       "19118                    0         0.6371          0.2299         0.1330   \n",
       "19119                    0         0.5745          0.2872         0.1383   \n",
       "19120                    0         0.6215          0.2277         0.1508   \n",
       "19121                    0         0.6475          0.2014         0.1511   \n",
       "\n",
       "           Class  \n",
       "0      Malicious  \n",
       "1      Malicious  \n",
       "2      Malicious  \n",
       "3      Malicious  \n",
       "4      Malicious  \n",
       "...          ...  \n",
       "19117  Malicious  \n",
       "19118  Malicious  \n",
       "19119  Malicious  \n",
       "19120  Malicious  \n",
       "19121  Malicious  \n",
       "\n",
       "[19122 rows x 66 columns]"
      ]
     },
     "execution_count": 2,
     "metadata": {},
     "output_type": "execute_result"
    }
   ],
   "source": [
    "import pandas as pd\n",
    "data = pd.read_csv(r\"D:\\APPLICATION DEVELOPMENT\\xxx_attack_detection\\XSS_Dataset.csv\")\n",
    "data.head()\n",
    "df = pd.DataFrame(data)\n",
    "df"
   ]
  },
  {
   "cell_type": "code",
   "execution_count": 3,
   "id": "f8491292",
   "metadata": {},
   "outputs": [],
   "source": [
    "import pandas as pd\n",
    "\n",
    "df = pd.read_csv(r\"D:\\APPLICATION DEVELOPMENT\\xxx_attack_detection\\XSS_Dataset.csv\")"
   ]
  },
  {
   "cell_type": "code",
   "execution_count": 4,
   "id": "f57bd25a",
   "metadata": {},
   "outputs": [
    {
     "name": "stdout",
     "output_type": "stream",
     "text": [
      "Original Dataset:\n",
      "   Contains &lt  ScripTag  Readable  Contains \"><  Contains '><  Contains And  \\\n",
      "0             0         1         1             1             0             0   \n",
      "1             0         1         1             1             0             0   \n",
      "2             0         1         1             1             0             0   \n",
      "3             0         1         0             0             0             1   \n",
      "4             0         1         1             0             0             0   \n",
      "\n",
      "   Contains Percentage  Contains Slash  Contains BackSlash  Contains Plus  \\\n",
      "0                    0               1                   0              0   \n",
      "1                    0               1                   0              0   \n",
      "2                    0               1                   0              0   \n",
      "3                    1               1                   0              1   \n",
      "4                    1               1                   0              0   \n",
      "\n",
      "   ...  Contains Duble Slash  Contains Vertical Bar  Contains Power  \\\n",
      "0  ...                     1                      0               0   \n",
      "1  ...                     1                      0               0   \n",
      "2  ...                     1                      0               0   \n",
      "3  ...                     1                      0               0   \n",
      "4  ...                     1                      0               0   \n",
      "\n",
      "   Contains Broken Bar  Contains Alert  Contains Break Line  Letters Ratio  \\\n",
      "0                    0               1                    0         0.7614   \n",
      "1                    0               1                    0         0.7614   \n",
      "2                    0               1                    0         0.7203   \n",
      "3                    0               1                    0         0.7071   \n",
      "4                    0               1                    0         0.7158   \n",
      "\n",
      "   Numbuers Ratio  Symbols Ratio      Class  \n",
      "0          0.0114         0.2273  Malicious  \n",
      "1          0.0114         0.2273  Malicious  \n",
      "2          0.0593         0.2203  Malicious  \n",
      "3          0.1065         0.1864  Malicious  \n",
      "4          0.1053         0.1789  Malicious  \n",
      "\n",
      "[5 rows x 66 columns]\n"
     ]
    }
   ],
   "source": [
    "print(\"Original Dataset:\")\n",
    "print(df.head())"
   ]
  },
  {
   "cell_type": "code",
   "execution_count": 5,
   "id": "6f8952ed",
   "metadata": {},
   "outputs": [
    {
     "name": "stdout",
     "output_type": "stream",
     "text": [
      "\n",
      "Missing Values:\n",
      "Contains &lt           0\n",
      "ScripTag               0\n",
      "Readable               0\n",
      "Contains \"><           0\n",
      "Contains '><           0\n",
      "                      ..\n",
      "Contains Break Line    0\n",
      "Letters Ratio          0\n",
      "Numbuers Ratio         0\n",
      "Symbols Ratio          0\n",
      "Class                  0\n",
      "Length: 66, dtype: int64\n"
     ]
    }
   ],
   "source": [
    "missing_values = df.isnull().sum()\n",
    "print(\"\\nMissing Values:\")\n",
    "print(missing_values)\n"
   ]
  },
  {
   "cell_type": "code",
   "execution_count": 6,
   "id": "5f00d150",
   "metadata": {},
   "outputs": [
    {
     "name": "stdout",
     "output_type": "stream",
     "text": [
      "\n",
      "Cleaned Dataset:\n",
      "   Contains &lt  ScripTag  Readable  Contains \"><  Contains '><  Contains And  \\\n",
      "0             0         1         1             1             0             0   \n",
      "2             0         1         1             1             0             0   \n",
      "3             0         1         0             0             0             1   \n",
      "4             0         1         1             0             0             0   \n",
      "5             0         0         0             0             0             0   \n",
      "\n",
      "   Contains Percentage  Contains Slash  Contains BackSlash  Contains Plus  \\\n",
      "0                    0               1                   0              0   \n",
      "2                    0               1                   0              0   \n",
      "3                    1               1                   0              1   \n",
      "4                    1               1                   0              0   \n",
      "5                    1               1                   0              0   \n",
      "\n",
      "   ...  Contains Duble Slash  Contains Vertical Bar  Contains Power  \\\n",
      "0  ...                     1                      0               0   \n",
      "2  ...                     1                      0               0   \n",
      "3  ...                     1                      0               0   \n",
      "4  ...                     1                      0               0   \n",
      "5  ...                     1                      0               0   \n",
      "\n",
      "   Contains Broken Bar  Contains Alert  Contains Break Line  Letters Ratio  \\\n",
      "0                    0               1                    0         0.7614   \n",
      "2                    0               1                    0         0.7203   \n",
      "3                    0               1                    0         0.7071   \n",
      "4                    0               1                    0         0.7158   \n",
      "5                    0               0                    0         0.6483   \n",
      "\n",
      "   Numbuers Ratio  Symbols Ratio      Class  \n",
      "0          0.0114         0.2273  Malicious  \n",
      "2          0.0593         0.2203  Malicious  \n",
      "3          0.1065         0.1864  Malicious  \n",
      "4          0.1053         0.1789  Malicious  \n",
      "5          0.1517         0.2000  Malicious  \n",
      "\n",
      "[5 rows x 66 columns]\n"
     ]
    }
   ],
   "source": [
    "df = df.drop_duplicates()\n",
    "df = df.dropna()\n",
    "print(\"\\nCleaned Dataset:\")\n",
    "print(df.head())"
   ]
  },
  {
   "cell_type": "code",
   "execution_count": 7,
   "id": "4ec5be19",
   "metadata": {},
   "outputs": [
    {
     "name": "stdout",
     "output_type": "stream",
     "text": [
      "Class Distribution before Balancing:\n",
      "Benign       13972\n",
      "Malicious     5150\n",
      "Name: Class, dtype: int64\n",
      "\n",
      "Class Distribution after Balancing:\n",
      "Malicious    13972\n",
      "Benign       13972\n",
      "Name: Class, dtype: int64\n"
     ]
    }
   ],
   "source": [
    "import pandas as pd\n",
    "from imblearn.over_sampling import RandomOverSampler\n",
    "df = pd.read_csv(r\"D:\\APPLICATION DEVELOPMENT\\xxx_attack_detection\\XSS_Dataset.csv\")\n",
    "\n",
    "# Display the class distribution before balancing\n",
    "print(\"Class Distribution before Balancing:\")\n",
    "print(df['Class'].value_counts())\n",
    "\n",
    "# Separate features (X) and labels (y)\n",
    "X = df.drop('Class', axis=1)\n",
    "y = df['Class']\n",
    "\n",
    "# Use RandomOverSampler to balance the dataset\n",
    "ros = RandomOverSampler(random_state=42)\n",
    "X_resampled, y_resampled = ros.fit_resample(X, y)\n",
    "\n",
    "# Display the class distribution after balancing\n",
    "print(\"\\nClass Distribution after Balancing:\")\n",
    "print(pd.Series(y_resampled).value_counts())\n",
    "\n",
    "# Now X_resampled and y_resampled can be used for training the machine learning model\n"
   ]
  },
  {
   "cell_type": "markdown",
   "id": "5b1388d8",
   "metadata": {},
   "source": [
    "## Preparing Features and Labels"
   ]
  },
  {
   "cell_type": "code",
   "execution_count": 8,
   "id": "7ba3b293",
   "metadata": {},
   "outputs": [],
   "source": [
    "X = df.drop('Class', axis=1)\n",
    "y = df['Class']"
   ]
  },
  {
   "cell_type": "markdown",
   "id": "b79b474b",
   "metadata": {},
   "source": [
    "## Splitting the dataset"
   ]
  },
  {
   "cell_type": "code",
   "execution_count": 9,
   "id": "88fee1b8",
   "metadata": {},
   "outputs": [],
   "source": [
    "X_train, X_test, y_train, y_test = train_test_split(X, y, test_size=0.2, random_state=42)"
   ]
  },
  {
   "cell_type": "markdown",
   "id": "8625cfe1",
   "metadata": {},
   "source": [
    "## Training Machine Learning Models"
   ]
  },
  {
   "cell_type": "markdown",
   "id": "78b1f5b5",
   "metadata": {},
   "source": [
    "## Random Forest (RF)"
   ]
  },
  {
   "cell_type": "code",
   "execution_count": 10,
   "id": "32379bbb",
   "metadata": {},
   "outputs": [
    {
     "data": {
      "text/plain": [
       "RandomForestClassifier()"
      ]
     },
     "execution_count": 10,
     "metadata": {},
     "output_type": "execute_result"
    }
   ],
   "source": [
    "rf_model = RandomForestClassifier()\n",
    "rf_model.fit(X_train, y_train)"
   ]
  },
  {
   "cell_type": "code",
   "execution_count": 11,
   "id": "2b5122e7",
   "metadata": {},
   "outputs": [],
   "source": [
    "rf_predictions = rf_model.predict(X_test)\n"
   ]
  },
  {
   "cell_type": "code",
   "execution_count": 12,
   "id": "2f399e8c",
   "metadata": {},
   "outputs": [
    {
     "name": "stdout",
     "output_type": "stream",
     "text": [
      "Random Forest Model:\n",
      "Accuracy: 0.9945098039215686\n",
      "Classification Report:\n",
      "              precision    recall  f1-score   support\n",
      "\n",
      "      Benign       1.00      1.00      1.00      2820\n",
      "   Malicious       0.99      0.99      0.99      1005\n",
      "\n",
      "    accuracy                           0.99      3825\n",
      "   macro avg       0.99      0.99      0.99      3825\n",
      "weighted avg       0.99      0.99      0.99      3825\n",
      "\n",
      "Confusion Matrix:\n",
      "[[2811    9]\n",
      " [  12  993]]\n"
     ]
    }
   ],
   "source": [
    "print(\"Random Forest Model:\")\n",
    "print(f\"Accuracy: {accuracy_score(y_test, rf_predictions)}\")\n",
    "print(\"Classification Report:\")\n",
    "print(classification_report(y_test, rf_predictions))\n",
    "print(\"Confusion Matrix:\")\n",
    "print(confusion_matrix(y_test, rf_predictions))"
   ]
  },
  {
   "cell_type": "markdown",
   "id": "480623c6",
   "metadata": {},
   "source": [
    "## Logistic Regression"
   ]
  },
  {
   "cell_type": "code",
   "execution_count": 13,
   "id": "ce52f9e7",
   "metadata": {},
   "outputs": [
    {
     "data": {
      "text/plain": [
       "LogisticRegression()"
      ]
     },
     "execution_count": 13,
     "metadata": {},
     "output_type": "execute_result"
    }
   ],
   "source": [
    "lr_model = LogisticRegression()\n",
    "lr_model.fit(X_train, y_train)"
   ]
  },
  {
   "cell_type": "code",
   "execution_count": 14,
   "id": "592ef091",
   "metadata": {},
   "outputs": [],
   "source": [
    "lr_predictions = lr_model.predict(X_test)"
   ]
  },
  {
   "cell_type": "code",
   "execution_count": 15,
   "id": "d98dda07",
   "metadata": {},
   "outputs": [
    {
     "name": "stdout",
     "output_type": "stream",
     "text": [
      "\n",
      "Logistic Regression Model:\n",
      "Accuracy: 0.9837908496732026\n",
      "Classification Report:\n",
      "              precision    recall  f1-score   support\n",
      "\n",
      "      Benign       0.99      0.99      0.99      2820\n",
      "   Malicious       0.98      0.96      0.97      1005\n",
      "\n",
      "    accuracy                           0.98      3825\n",
      "   macro avg       0.98      0.98      0.98      3825\n",
      "weighted avg       0.98      0.98      0.98      3825\n",
      "\n",
      "Confusion Matrix:\n",
      "[[2798   22]\n",
      " [  40  965]]\n"
     ]
    }
   ],
   "source": [
    "print(\"\\nLogistic Regression Model:\")\n",
    "print(f\"Accuracy: {accuracy_score(y_test, lr_predictions)}\")\n",
    "print(\"Classification Report:\")\n",
    "print(classification_report(y_test, lr_predictions))\n",
    "print(\"Confusion Matrix:\")\n",
    "print(confusion_matrix(y_test, lr_predictions))"
   ]
  },
  {
   "cell_type": "markdown",
   "id": "9d0e0efe",
   "metadata": {},
   "source": [
    "## k-Nearest Neighbors Classifier"
   ]
  },
  {
   "cell_type": "code",
   "execution_count": 16,
   "id": "8efdd1de",
   "metadata": {},
   "outputs": [
    {
     "data": {
      "text/plain": [
       "KNeighborsClassifier()"
      ]
     },
     "execution_count": 16,
     "metadata": {},
     "output_type": "execute_result"
    }
   ],
   "source": [
    "knn_model = KNeighborsClassifier()\n",
    "knn_model.fit(X_train, y_train)"
   ]
  },
  {
   "cell_type": "code",
   "execution_count": 17,
   "id": "680b5e9b",
   "metadata": {},
   "outputs": [
    {
     "name": "stderr",
     "output_type": "stream",
     "text": [
      "C:\\Users\\harsh\\anaconda3\\lib\\site-packages\\sklearn\\neighbors\\_classification.py:228: FutureWarning: Unlike other reduction functions (e.g. `skew`, `kurtosis`), the default behavior of `mode` typically preserves the axis it acts along. In SciPy 1.11.0, this behavior will change: the default value of `keepdims` will become False, the `axis` over which the statistic is taken will be eliminated, and the value None will no longer be accepted. Set `keepdims` to True or False to avoid this warning.\n",
      "  mode, _ = stats.mode(_y[neigh_ind, k], axis=1)\n"
     ]
    }
   ],
   "source": [
    "knn_predictions = knn_model.predict(X_test)"
   ]
  },
  {
   "cell_type": "code",
   "execution_count": 18,
   "id": "18667ed6",
   "metadata": {},
   "outputs": [
    {
     "name": "stdout",
     "output_type": "stream",
     "text": [
      "\n",
      "k-Nearest Neighbors Model:\n",
      "Accuracy: 0.9934640522875817\n",
      "Classification Report:\n",
      "              precision    recall  f1-score   support\n",
      "\n",
      "      Benign       0.99      1.00      1.00      2820\n",
      "   Malicious       0.99      0.98      0.99      1005\n",
      "\n",
      "    accuracy                           0.99      3825\n",
      "   macro avg       0.99      0.99      0.99      3825\n",
      "weighted avg       0.99      0.99      0.99      3825\n",
      "\n",
      "Confusion Matrix:\n",
      "[[2812    8]\n",
      " [  17  988]]\n"
     ]
    }
   ],
   "source": [
    "print(\"\\nk-Nearest Neighbors Model:\")\n",
    "print(f\"Accuracy: {accuracy_score(y_test, knn_predictions)}\")\n",
    "print(\"Classification Report:\")\n",
    "print(classification_report(y_test, knn_predictions))\n",
    "print(\"Confusion Matrix:\")\n",
    "print(confusion_matrix(y_test, knn_predictions))"
   ]
  },
  {
   "cell_type": "markdown",
   "id": "eea9480a",
   "metadata": {},
   "source": [
    "## Support Vector Machine"
   ]
  },
  {
   "cell_type": "code",
   "execution_count": 19,
   "id": "39a896c3",
   "metadata": {},
   "outputs": [
    {
     "data": {
      "text/plain": [
       "SVC()"
      ]
     },
     "execution_count": 19,
     "metadata": {},
     "output_type": "execute_result"
    }
   ],
   "source": [
    "svm_model = SVC()\n",
    "svm_model.fit(X_train, y_train)"
   ]
  },
  {
   "cell_type": "code",
   "execution_count": 20,
   "id": "d396ce45",
   "metadata": {},
   "outputs": [],
   "source": [
    "svm_predictions = svm_model.predict(X_test)\n"
   ]
  },
  {
   "cell_type": "code",
   "execution_count": 21,
   "id": "19d9474c",
   "metadata": {},
   "outputs": [
    {
     "name": "stdout",
     "output_type": "stream",
     "text": [
      "\n",
      "Support Vector Machine Model:\n",
      "Accuracy: 0.9945098039215686\n",
      "Classification Report:\n",
      "              precision    recall  f1-score   support\n",
      "\n",
      "      Benign       1.00      1.00      1.00      2820\n",
      "   Malicious       0.99      0.99      0.99      1005\n",
      "\n",
      "    accuracy                           0.99      3825\n",
      "   macro avg       0.99      0.99      0.99      3825\n",
      "weighted avg       0.99      0.99      0.99      3825\n",
      "\n",
      "Confusion Matrix:\n",
      "[[2812    8]\n",
      " [  13  992]]\n"
     ]
    }
   ],
   "source": [
    "print(\"\\nSupport Vector Machine Model:\")\n",
    "print(f\"Accuracy: {accuracy_score(y_test, svm_predictions)}\")\n",
    "print(\"Classification Report:\")\n",
    "print(classification_report(y_test, svm_predictions))\n",
    "print(\"Confusion Matrix:\")\n",
    "print(confusion_matrix(y_test, svm_predictions))\n"
   ]
  },
  {
   "cell_type": "code",
   "execution_count": null,
   "id": "2417815a",
   "metadata": {},
   "outputs": [],
   "source": []
  },
  {
   "cell_type": "code",
   "execution_count": null,
   "id": "8e4264f6",
   "metadata": {},
   "outputs": [],
   "source": []
  }
 ],
 "metadata": {
  "kernelspec": {
   "display_name": "Python 3 (ipykernel)",
   "language": "python",
   "name": "python3"
  },
  "language_info": {
   "codemirror_mode": {
    "name": "ipython",
    "version": 3
   },
   "file_extension": ".py",
   "mimetype": "text/x-python",
   "name": "python",
   "nbconvert_exporter": "python",
   "pygments_lexer": "ipython3",
   "version": "3.9.13"
  }
 },
 "nbformat": 4,
 "nbformat_minor": 5
}
